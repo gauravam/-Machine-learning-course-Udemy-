{
 "cells": [
  {
   "cell_type": "code",
   "execution_count": null,
   "metadata": {},
   "outputs": [],
   "source": [
    "#Visualizing the data complete iT\n",
    "X_grid=np.arange(min(X),max(X),0.01)\n",
    "X_grid=X_grid.reshape((len(X_grid),1))\n",
    "plt.scatter(X,Y)\n",
    "plt.plot(X_grid,regressor.predict(X_grid))"
   ]
  }
 ],
 "metadata": {
  "kernelspec": {
   "display_name": "Python 3",
   "language": "python",
   "name": "python3"
  },
  "language_info": {
   "codemirror_mode": {
    "name": "ipython",
    "version": 3
   },
   "file_extension": ".py",
   "mimetype": "text/x-python",
   "name": "python",
   "nbconvert_exporter": "python",
   "pygments_lexer": "ipython3",
   "version": "3.7.2"
  }
 },
 "nbformat": 4,
 "nbformat_minor": 2
}
