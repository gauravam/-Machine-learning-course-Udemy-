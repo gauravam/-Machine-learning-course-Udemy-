{
 "cells": [
  {
   "cell_type": "code",
   "execution_count": null,
   "metadata": {},
   "outputs": [],
   "source": [
    "# to check how many null types are present\n",
    "startup.apply(lambda x: sum(x.isnull()))\n",
    "\n",
    "\n",
    "#to check how many unique data is present\n",
    "startup.apply(lambda x: len(x.unique()))\n",
    "\n",
    "\n",
    "#to see hw the data is\n",
    "startup.describe()\n",
    "\n",
    "\n",
    "#Filter categorical variables\n",
    "categorical_columns = [x for x in startup.dtypes.index if startup.dtypes[x]=='object']\n",
    "#Exclude ID cols and source:\n",
    "categorical_columns = [x for x in categorical_columns if x not in ['Item_Identifier','Outlet_Identifier','source']]\n",
    "#Print frequency of categories\n",
    "for col in categorical_columns:\n",
    "    print ('\\nFrequency of Categories for varible %s'%col)\n",
    "    print (startup[col].value_counts())"
   ]
  }
 ],
 "metadata": {
  "kernelspec": {
   "display_name": "Python 3",
   "language": "python",
   "name": "python3"
  },
  "language_info": {
   "codemirror_mode": {
    "name": "ipython",
    "version": 3
   },
   "file_extension": ".py",
   "mimetype": "text/x-python",
   "name": "python",
   "nbconvert_exporter": "python",
   "pygments_lexer": "ipython3",
   "version": "3.7.2"
  }
 },
 "nbformat": 4,
 "nbformat_minor": 2
}
